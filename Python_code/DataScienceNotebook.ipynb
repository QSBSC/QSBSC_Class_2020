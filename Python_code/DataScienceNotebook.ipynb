{
  "nbformat": 4,
  "nbformat_minor": 0,
  "metadata": {
    "colab": {
      "name": "DataScienceNotebook.ipynb",
      "provenance": [],
      "collapsed_sections": [],
      "toc_visible": true,
      "include_colab_link": true
    },
    "kernelspec": {
      "name": "python3",
      "display_name": "Python 3"
    }
  },
  "cells": [
    {
      "cell_type": "markdown",
      "metadata": {
        "id": "view-in-github",
        "colab_type": "text"
      },
      "source": [
        "<a href=\"https://colab.research.google.com/github/QSBSC/QSBSC_Class_2020/blob/master/Python_code/DataScienceNotebook.ipynb\" target=\"_parent\"><img src=\"https://colab.research.google.com/assets/colab-badge.svg\" alt=\"Open In Colab\"/></a>"
      ]
    },
    {
      "cell_type": "markdown",
      "metadata": {
        "id": "E3eHLcF4S1kB",
        "colab_type": "text"
      },
      "source": [
        "# **`Data Science Examples`**"
      ]
    },
    {
      "cell_type": "markdown",
      "metadata": {
        "id": "FfVzYbM-TbaC",
        "colab_type": "text"
      },
      "source": [
        "\n",
        "**Directories and Structure**"
      ]
    },
    {
      "cell_type": "code",
      "metadata": {
        "id": "PFwHsxIyT8JU",
        "colab_type": "code",
        "colab": {}
      },
      "source": [
        "import os\n",
        "os.getcwd()"
      ],
      "execution_count": 0,
      "outputs": []
    },
    {
      "cell_type": "code",
      "metadata": {
        "id": "XffC6R30UN69",
        "colab_type": "code",
        "colab": {}
      },
      "source": [
        "# Now create a new directory\n",
        "if not os.path.exists('NewDirectory'):\n",
        "  os.mkdir('NewDirectory')\n",
        "\n",
        "# Change the working directory to the newly created directory\n",
        "os.chdir('NewDirectory')\n",
        "\n",
        "# Print the current working directory\n",
        "print(\"Current working directory after changing it:\")\n",
        "print(os.getcwd())"
      ],
      "execution_count": 0,
      "outputs": []
    },
    {
      "cell_type": "markdown",
      "metadata": {
        "id": "apXmljQtUp23",
        "colab_type": "text"
      },
      "source": [
        "**Generating lists/arrays** *and storing them as variables*"
      ]
    },
    {
      "cell_type": "code",
      "metadata": {
        "id": "0YqPHt0gUwDm",
        "colab_type": "code",
        "colab": {}
      },
      "source": [
        "import numpy as np\n",
        "\n",
        "a = np.array([0,1,2,3,4,5])\n",
        "b = np.array([5,4,3,2,1,0])\n",
        "\n",
        "print(a)\n",
        "print(b)"
      ],
      "execution_count": 0,
      "outputs": []
    },
    {
      "cell_type": "markdown",
      "metadata": {
        "id": "498k3tYaZQ5M",
        "colab_type": "text"
      },
      "source": [
        "**Plotting lists/arrays** "
      ]
    },
    {
      "cell_type": "code",
      "metadata": {
        "id": "aFqP_sNmZRCo",
        "colab_type": "code",
        "colab": {}
      },
      "source": [
        "import matplotlib.pyplot as plt\n",
        "\n",
        "plt.plot(a,b)\n",
        "plt.show()"
      ],
      "execution_count": 0,
      "outputs": []
    },
    {
      "cell_type": "markdown",
      "metadata": {
        "id": "8h2oe4fafy-l",
        "colab_type": "text"
      },
      "source": [
        "*Adding labels/titles*"
      ]
    },
    {
      "cell_type": "code",
      "metadata": {
        "id": "tE5Hlv55Zh2L",
        "colab_type": "code",
        "colab": {}
      },
      "source": [
        "plt.plot(a,b)\n",
        "plt.xlabel(\"Variable1\")\n",
        "plt.ylabel(\"Variable2\")\n",
        "plt.title(\"Time Course\")\n",
        "plt.show()"
      ],
      "execution_count": 0,
      "outputs": []
    },
    {
      "cell_type": "markdown",
      "metadata": {
        "id": "kTHZirBZZTyO",
        "colab_type": "text"
      },
      "source": [
        "**Dataframes**"
      ]
    },
    {
      "cell_type": "code",
      "metadata": {
        "id": "6A5z_ArxVFrx",
        "colab_type": "code",
        "colab": {}
      },
      "source": [
        "import pandas as pd\n",
        "\n",
        "df = pd.DataFrame({\"Variable1\":a,\n",
        "                   \"Variable2\":b})\n",
        "\n",
        "print(df)"
      ],
      "execution_count": 0,
      "outputs": []
    },
    {
      "cell_type": "markdown",
      "metadata": {
        "id": "vt54PHFDd-f9",
        "colab_type": "text"
      },
      "source": [
        "*Plotting dataframes*"
      ]
    },
    {
      "cell_type": "code",
      "metadata": {
        "id": "lcneG3owZYhi",
        "colab_type": "code",
        "colab": {}
      },
      "source": [
        "df.plot(\"Variable1\", \"Variable2\")\n",
        "plt.show()"
      ],
      "execution_count": 0,
      "outputs": []
    },
    {
      "cell_type": "markdown",
      "metadata": {
        "id": "cW4qgT6mgNej",
        "colab_type": "text"
      },
      "source": [
        "***Plotting correlations***"
      ]
    },
    {
      "cell_type": "code",
      "metadata": {
        "id": "iVkphk82ZmOP",
        "colab_type": "code",
        "colab": {}
      },
      "source": [
        "df[\"Variable3\"] = pd.Series([2.5,2.5,2.5,2.5,2.5,2.5])\n",
        "df[\"Variable4\"] = pd.Series([0,1,2,3,4,5])\n",
        "df.plot(x=\"Variable1\", y=[\"Variable2\",\"Variable3\",\"Variable4\"])\n",
        "plt.xlabel(\"Variable1\")\n",
        "plt.ylabel(\"Other Variables\")\n",
        "plt.title(\"Correlations\")\n",
        "plt.show()\n"
      ],
      "execution_count": 0,
      "outputs": []
    },
    {
      "cell_type": "markdown",
      "metadata": {
        "id": "ScIlvwpmePhU",
        "colab_type": "text"
      },
      "source": [
        "**From messy data to data science**"
      ]
    },
    {
      "cell_type": "code",
      "metadata": {
        "id": "AHnAcWKqbhT-",
        "colab_type": "code",
        "colab": {}
      },
      "source": [
        "from mpl_toolkits.mplot3d import Axes3D\n",
        "from sklearn import datasets\n",
        "from sklearn.decomposition import PCA\n",
        "\n",
        "iris = datasets.load_iris()\n",
        "X = iris.data\n",
        "y = iris.target\n"
      ],
      "execution_count": 0,
      "outputs": []
    },
    {
      "cell_type": "markdown",
      "metadata": {
        "id": "EdcC4WW06RrL",
        "colab_type": "text"
      },
      "source": [
        "*Getting data in the correct format*"
      ]
    },
    {
      "cell_type": "code",
      "metadata": {
        "id": "id0Gl-Mdg99s",
        "colab_type": "code",
        "colab": {}
      },
      "source": [
        "iris_df = pd.DataFrame(data= np.c_[iris['data'], iris['target']],\n",
        "                     columns= iris['feature_names'] + ['target'])\n",
        "iris_df.head()"
      ],
      "execution_count": 0,
      "outputs": []
    },
    {
      "cell_type": "markdown",
      "metadata": {
        "id": "wrYdz83r6XSz",
        "colab_type": "text"
      },
      "source": [
        "*Dimensionality Reduction*"
      ]
    },
    {
      "cell_type": "code",
      "metadata": {
        "id": "l_M7Pdukh7vF",
        "colab_type": "code",
        "colab": {}
      },
      "source": [
        "fig = plt.figure(1, figsize=(8, 6))\n",
        "ax = Axes3D(fig, elev=-150, azim=110)\n",
        "X_reduced = PCA(n_components=3).fit_transform(X)\n",
        "ax.scatter(X_reduced[:, 0], X_reduced[:, 1], X_reduced[:, 2],\n",
        "           cmap=plt.cm.Set1, edgecolor='k', s=40)\n",
        "ax.set_title(\"PCA Top 3 Dimensions\")\n",
        "ax.set_xlabel(\"PCA_1\")\n",
        "ax.w_xaxis.set_ticklabels([])\n",
        "ax.set_ylabel(\"PCA_2\")\n",
        "ax.w_yaxis.set_ticklabels([])\n",
        "ax.set_zlabel(\"PCA_3\")\n",
        "ax.w_zaxis.set_ticklabels([])\n",
        "\n",
        "plt.show()"
      ],
      "execution_count": 0,
      "outputs": []
    },
    {
      "cell_type": "markdown",
      "metadata": {
        "id": "QiGRR_q86b2i",
        "colab_type": "text"
      },
      "source": [
        "**Ground Truth**"
      ]
    },
    {
      "cell_type": "code",
      "metadata": {
        "id": "kkazJHJf0Jwi",
        "colab_type": "code",
        "colab": {}
      },
      "source": [
        "# Ground Truth\n",
        "fig = plt.figure(1, figsize=(8, 6))\n",
        "ax = Axes3D(fig, elev=-150, azim=110)\n",
        "X_reduced = PCA(n_components=3).fit_transform(X)\n",
        "ax.scatter(X_reduced[:, 0], X_reduced[:, 1], X_reduced[:, 2], c=y,\n",
        "           cmap=plt.cm.Set1, edgecolor='k', s=40)\n",
        "ax.set_title(\"PCA Top 3 Dimensions\")\n",
        "ax.set_xlabel(\"PCA_1\")\n",
        "ax.w_xaxis.set_ticklabels([])\n",
        "ax.set_ylabel(\"PCA_2\")\n",
        "ax.w_yaxis.set_ticklabels([])\n",
        "ax.set_zlabel(\"PCA_3\")\n",
        "ax.w_zaxis.set_ticklabels([])\n",
        "\n",
        "plt.show()"
      ],
      "execution_count": 0,
      "outputs": []
    },
    {
      "cell_type": "markdown",
      "metadata": {
        "id": "V2rwWlXh6i_y",
        "colab_type": "text"
      },
      "source": [
        "*Clustering - trying to find the number that works best*"
      ]
    },
    {
      "cell_type": "code",
      "metadata": {
        "id": "AdylueKljlc0",
        "colab_type": "code",
        "colab": {}
      },
      "source": [
        "# Testing different numbers of clusters\n",
        "from sklearn.cluster import KMeans\n",
        "\n",
        "estimators = [('k_means_iris_8', KMeans(n_clusters=8)),\n",
        "              ('k_means_iris_3', KMeans(n_clusters=3))]\n",
        "\n",
        "fignum = 1\n",
        "titles = ['8 clusters', '3 clusters']\n",
        "for name, est in estimators:\n",
        "    fig = plt.figure(fignum, figsize=(8, 6))\n",
        "    ax = Axes3D(fig, elev=-150, azim=110)\n",
        "    est.fit(X_reduced)\n",
        "    labels = est.labels_\n",
        "\n",
        "    ax.scatter(X_reduced[:, 0], X_reduced[:, 1], X_reduced[:, 2],\n",
        "               c=labels.astype(np.float), edgecolor='k')\n",
        "\n",
        "    ax.w_xaxis.set_ticklabels([])\n",
        "    ax.w_yaxis.set_ticklabels([])\n",
        "    ax.w_zaxis.set_ticklabels([])\n",
        "    ax.set_xlabel('PCA_1')\n",
        "    ax.set_ylabel('PCA_2')\n",
        "    ax.set_zlabel('PCA_3')\n",
        "    ax.set_title(titles[fignum - 1])\n",
        "    ax.dist = 12\n",
        "    fignum = fignum + 1\n",
        "\n",
        "\n",
        "\n",
        "fig.show()"
      ],
      "execution_count": 0,
      "outputs": []
    },
    {
      "cell_type": "markdown",
      "metadata": {
        "id": "SoLA3fmQ6reL",
        "colab_type": "text"
      },
      "source": [
        "**New data point - what group does it fall into?**"
      ]
    },
    {
      "cell_type": "code",
      "metadata": {
        "id": "xsF-E4rN3hoI",
        "colab_type": "code",
        "colab": {}
      },
      "source": [
        "fig = plt.figure(1, figsize=(8, 6))\n",
        "ax = Axes3D(fig, elev=-150, azim=110)\n",
        "km = KMeans(n_clusters=3).fit(X_reduced)\n",
        "labels = km.labels_\n",
        "\n",
        "ax.scatter(X_reduced[:, 0], X_reduced[:, 1], X_reduced[:, 2],\n",
        "            c=labels.astype(np.float), edgecolor='k')\n",
        "\n",
        "ax.scatter(-2.5, 0, 0, c = \"r\", edgecolor=\"k\", s=1000)\n",
        "\n",
        "ax.w_xaxis.set_ticklabels([])\n",
        "ax.w_yaxis.set_ticklabels([])\n",
        "ax.w_zaxis.set_ticklabels([])\n",
        "ax.set_xlabel('PCA_1')\n",
        "ax.set_ylabel('PCA_2')\n",
        "ax.set_zlabel('PCA_3')\n",
        "ax.set_title(\"3 Clusters\")\n",
        "fig.show()\n"
      ],
      "execution_count": 0,
      "outputs": []
    },
    {
      "cell_type": "markdown",
      "metadata": {
        "id": "1iW3Qnus6zeU",
        "colab_type": "text"
      },
      "source": [
        "**Example Clustering**"
      ]
    },
    {
      "cell_type": "code",
      "metadata": {
        "id": "ZLoCv15flv_f",
        "colab_type": "code",
        "colab": {}
      },
      "source": [
        "# Example Clustering\n",
        "import scipy.cluster.hierarchy as shc\n",
        "\n",
        "plt.figure(figsize=(20, 15))\n",
        "plt.title(\"Customer Dendograms\")\n",
        "dend = shc.dendrogram(shc.linkage(iris_df, method='ward'))\n",
        "\n",
        "plt.title('Hierarchical Clustering Dendrogram')\n",
        "# plot the top three levels of the dendrogram\n",
        "plt.show()"
      ],
      "execution_count": 0,
      "outputs": []
    }
  ]
}