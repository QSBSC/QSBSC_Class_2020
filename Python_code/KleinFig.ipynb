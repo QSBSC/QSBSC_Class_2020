{
  "nbformat": 4,
  "nbformat_minor": 0,
  "metadata": {
    "colab": {
      "name": "KleinFig.ipynb",
      "provenance": [],
      "collapsed_sections": [],
      "include_colab_link": true
    },
    "kernelspec": {
      "name": "python3",
      "display_name": "Python 3"
    }
  },
  "cells": [
    {
      "cell_type": "markdown",
      "metadata": {
        "id": "view-in-github",
        "colab_type": "text"
      },
      "source": [
        "<a href=\"https://colab.research.google.com/github/QSBSC/QSBSC_Class_2020/blob/master/KleinFig.ipynb\" target=\"_parent\"><img src=\"https://colab.research.google.com/assets/colab-badge.svg\" alt=\"Open In Colab\"/></a>"
      ]
    },
    {
      "cell_type": "markdown",
      "metadata": {
        "id": "mWBXZiJSHtNE",
        "colab_type": "text"
      },
      "source": [
        "# Install and Load Necessary Packages"
      ]
    },
    {
      "cell_type": "code",
      "metadata": {
        "id": "xSQYrRdm_OrH",
        "colab_type": "code",
        "outputId": "7b1f06ee-6ac1-4343-c641-9eb3f288de7d",
        "colab": {
          "base_uri": "https://localhost:8080/",
          "height": 965
        }
      },
      "source": [
        "!pip install scanpy[louvain]\n",
        "!pip install scanpy[leiden]"
      ],
      "execution_count": 0,
      "outputs": [
        {
          "output_type": "stream",
          "text": [
            "Collecting scanpy[louvain]\n",
            "\u001b[?25l  Downloading https://files.pythonhosted.org/packages/b7/84/dd977049bafc0942a29cd277c55586277776fb4f895e02e6e1c76f250210/scanpy-1.4.5.1-py3-none-any.whl (6.5MB)\n",
            "\u001b[K     |████████████████████████████████| 6.5MB 2.4MB/s \n",
            "\u001b[?25hRequirement already satisfied: scikit-learn>=0.21.2 in /usr/local/lib/python3.6/dist-packages (from scanpy[louvain]) (0.22.1)\n",
            "Requirement already satisfied: natsort in /usr/local/lib/python3.6/dist-packages (from scanpy[louvain]) (5.5.0)\n",
            "Requirement already satisfied: numba>=0.41.0 in /usr/local/lib/python3.6/dist-packages (from scanpy[louvain]) (0.47.0)\n",
            "Requirement already satisfied: packaging in /usr/local/lib/python3.6/dist-packages (from scanpy[louvain]) (20.1)\n",
            "Requirement already satisfied: statsmodels>=0.10.0rc2 in /usr/local/lib/python3.6/dist-packages (from scanpy[louvain]) (0.10.2)\n",
            "Collecting legacy-api-wrap\n",
            "  Downloading https://files.pythonhosted.org/packages/a4/68/da997bc56bb69dcdcee4054f0bc42266909307b905389fbc54c9158f42da/legacy_api_wrap-1.2-py3-none-any.whl\n",
            "Requirement already satisfied: umap-learn>=0.3.10 in /usr/local/lib/python3.6/dist-packages (from scanpy[louvain]) (0.3.10)\n",
            "Requirement already satisfied: tables in /usr/local/lib/python3.6/dist-packages (from scanpy[louvain]) (3.4.4)\n",
            "Requirement already satisfied: tqdm in /usr/local/lib/python3.6/dist-packages (from scanpy[louvain]) (4.28.1)\n",
            "Requirement already satisfied: importlib-metadata>=0.7; python_version < \"3.8\" in /usr/local/lib/python3.6/dist-packages (from scanpy[louvain]) (1.5.0)\n",
            "Requirement already satisfied: networkx in /usr/local/lib/python3.6/dist-packages (from scanpy[louvain]) (2.4)\n",
            "Requirement already satisfied: seaborn in /usr/local/lib/python3.6/dist-packages (from scanpy[louvain]) (0.10.0)\n",
            "Collecting setuptools-scm\n",
            "  Downloading https://files.pythonhosted.org/packages/4b/c1/118ec08816737cc46b4dd93b22f7a138fbfb14b53f4b4718fd9983e70a50/setuptools_scm-3.5.0-py2.py3-none-any.whl\n",
            "Collecting anndata>=0.7\n",
            "\u001b[?25l  Downloading https://files.pythonhosted.org/packages/5b/c8/5c594a95ba293433dfe1cf188075ccbabe495bf2d291be744974aca85ffc/anndata-0.7.1-py3-none-any.whl (97kB)\n",
            "\u001b[K     |████████████████████████████████| 102kB 10.4MB/s \n",
            "\u001b[?25hRequirement already satisfied: scipy>=1.3 in /usr/local/lib/python3.6/dist-packages (from scanpy[louvain]) (1.4.1)\n",
            "Requirement already satisfied: pandas>=0.21 in /usr/local/lib/python3.6/dist-packages (from scanpy[louvain]) (0.25.3)\n",
            "Requirement already satisfied: patsy in /usr/local/lib/python3.6/dist-packages (from scanpy[louvain]) (0.5.1)\n",
            "Collecting h5py>=2.10.0\n",
            "\u001b[?25l  Downloading https://files.pythonhosted.org/packages/60/06/cafdd44889200e5438b897388f3075b52a8ef01f28a17366d91de0fa2d05/h5py-2.10.0-cp36-cp36m-manylinux1_x86_64.whl (2.9MB)\n",
            "\u001b[K     |████████████████████████████████| 2.9MB 49.4MB/s \n",
            "\u001b[?25hRequirement already satisfied: matplotlib>=3.1 in /usr/local/lib/python3.6/dist-packages (from scanpy[louvain]) (3.1.3)\n",
            "Requirement already satisfied: joblib in /usr/local/lib/python3.6/dist-packages (from scanpy[louvain]) (0.14.1)\n",
            "Collecting louvain>=0.6; extra == \"louvain\"\n",
            "\u001b[?25l  Downloading https://files.pythonhosted.org/packages/51/bc/8cc9bb51a7fd9d13f37f2d904ee269971bccb1ab0eb06447a539af67f94c/louvain-0.6.1.tar.gz (84kB)\n",
            "\u001b[K     |████████████████████████████████| 92kB 11.8MB/s \n",
            "\u001b[?25hCollecting python-igraph; extra == \"louvain\"\n",
            "\u001b[?25l  Downloading https://files.pythonhosted.org/packages/f3/23/2959ac50ac7a3d8c28602a752075abd21025767fc32d4587fb35ae273d22/python_igraph-0.8.0-cp36-cp36m-manylinux2010_x86_64.whl (3.2MB)\n",
            "\u001b[K     |████████████████████████████████| 3.2MB 45.5MB/s \n",
            "\u001b[?25hRequirement already satisfied: numpy>=1.11.0 in /usr/local/lib/python3.6/dist-packages (from scikit-learn>=0.21.2->scanpy[louvain]) (1.17.5)\n",
            "Requirement already satisfied: setuptools in /usr/local/lib/python3.6/dist-packages (from numba>=0.41.0->scanpy[louvain]) (45.2.0)\n",
            "Requirement already satisfied: llvmlite>=0.31.0dev0 in /usr/local/lib/python3.6/dist-packages (from numba>=0.41.0->scanpy[louvain]) (0.31.0)\n",
            "Requirement already satisfied: six in /usr/local/lib/python3.6/dist-packages (from packaging->scanpy[louvain]) (1.12.0)\n",
            "Requirement already satisfied: pyparsing>=2.0.2 in /usr/local/lib/python3.6/dist-packages (from packaging->scanpy[louvain]) (2.4.6)\n",
            "Collecting get-version>=2.0.4\n",
            "\u001b[?25l  Downloading https://files.pythonhosted.org/packages/23/48/7610e884e62fff2183e7bc8592397c39a020267fb5147905fcd3f9cc820c/get_version-2.1-py3-none-any.whl (43kB)\n",
            "\u001b[K     |████████████████████████████████| 51kB 7.4MB/s \n",
            "\u001b[?25hRequirement already satisfied: numexpr>=2.5.2 in /usr/local/lib/python3.6/dist-packages (from tables->scanpy[louvain]) (2.7.1)\n",
            "Requirement already satisfied: zipp>=0.5 in /usr/local/lib/python3.6/dist-packages (from importlib-metadata>=0.7; python_version < \"3.8\"->scanpy[louvain]) (3.1.0)\n",
            "Requirement already satisfied: decorator>=4.3.0 in /usr/local/lib/python3.6/dist-packages (from networkx->scanpy[louvain]) (4.4.1)\n",
            "Requirement already satisfied: pytz>=2017.2 in /usr/local/lib/python3.6/dist-packages (from pandas>=0.21->scanpy[louvain]) (2018.9)\n",
            "Requirement already satisfied: python-dateutil>=2.6.1 in /usr/local/lib/python3.6/dist-packages (from pandas>=0.21->scanpy[louvain]) (2.6.1)\n",
            "Requirement already satisfied: kiwisolver>=1.0.1 in /usr/local/lib/python3.6/dist-packages (from matplotlib>=3.1->scanpy[louvain]) (1.1.0)\n",
            "Requirement already satisfied: cycler>=0.10 in /usr/local/lib/python3.6/dist-packages (from matplotlib>=3.1->scanpy[louvain]) (0.10.0)\n",
            "Collecting texttable>=1.6.2\n",
            "  Downloading https://files.pythonhosted.org/packages/ec/b1/8a1c659ce288bf771d5b1c7cae318ada466f73bd0e16df8d86f27a2a3ee7/texttable-1.6.2-py2.py3-none-any.whl\n",
            "Building wheels for collected packages: louvain\n"
          ],
          "name": "stdout"
        }
      ]
    },
    {
      "cell_type": "code",
      "metadata": {
        "id": "ilFi6s3H_S1s",
        "colab_type": "code",
        "colab": {}
      },
      "source": [
        "import numpy as np\n",
        "import pandas as pd"
      ],
      "execution_count": 0,
      "outputs": []
    },
    {
      "cell_type": "code",
      "metadata": {
        "id": "FCBtn4Sk4Fl0",
        "colab_type": "code",
        "colab": {}
      },
      "source": [
        "import scanpy as sc"
      ],
      "execution_count": 0,
      "outputs": []
    },
    {
      "cell_type": "markdown",
      "metadata": {
        "id": "R-cJaji8I3vc",
        "colab_type": "text"
      },
      "source": [
        "**This just makes sure ScanPy will tell you what is going on**"
      ]
    },
    {
      "cell_type": "code",
      "metadata": {
        "id": "fNsuQW2H_Tou",
        "colab_type": "code",
        "colab": {}
      },
      "source": [
        "sc.settings.verbosity = 3             # verbosity: errors (0), warnings (1), info (2), hints (3)\n",
        "sc.logging.print_versions()\n",
        "sc.settings.set_figure_params(dpi=80)"
      ],
      "execution_count": 0,
      "outputs": []
    },
    {
      "cell_type": "markdown",
      "metadata": {
        "id": "cU5gAiA-H8YC",
        "colab_type": "text"
      },
      "source": [
        "# Mount Google Drive and Load Data Files"
      ]
    },
    {
      "cell_type": "markdown",
      "metadata": {
        "id": "kmfKtS2IJAPR",
        "colab_type": "text"
      },
      "source": [
        "**Need to have the QSBSC folder in MyDrive prior to this step!**"
      ]
    },
    {
      "cell_type": "code",
      "metadata": {
        "id": "ull1_qJ3D_yJ",
        "colab_type": "code",
        "colab": {}
      },
      "source": [
        "from google.colab import drive\n",
        "drive.mount('/content/drive')"
      ],
      "execution_count": 0,
      "outputs": []
    },
    {
      "cell_type": "code",
      "metadata": {
        "id": "1ySrH8VuENI0",
        "colab_type": "code",
        "colab": {}
      },
      "source": [
        "!ls \"/content/drive/My Drive/Quantitative Systems Biology 2020/Data\""
      ],
      "execution_count": 0,
      "outputs": []
    },
    {
      "cell_type": "markdown",
      "metadata": {
        "id": "bzE_okQdJPEG",
        "colab_type": "text"
      },
      "source": [
        "Read in the data using ScanPy"
      ]
    },
    {
      "cell_type": "code",
      "metadata": {
        "id": "ClwmNhUw_ngL",
        "colab_type": "code",
        "colab": {}
      },
      "source": [
        "adata = sc.read_csv(\n",
        "    filename = \"/content/drive/My Drive/Quantitative Systems Biology 2020/Data/GSM3067189_04hpf.csv\").transpose() "
      ],
      "execution_count": 0,
      "outputs": []
    },
    {
      "cell_type": "markdown",
      "metadata": {
        "id": "uyFf6VY_JSp5",
        "colab_type": "text"
      },
      "source": [
        "Read in cluster annotations and names using Pandas"
      ]
    },
    {
      "cell_type": "code",
      "metadata": {
        "id": "eoIRbDmVNMv_",
        "colab_type": "code",
        "colab": {}
      },
      "source": [
        "anno = pd.read_csv(\"/content/drive/My Drive/Quantitative Systems Biology 2020/Data/GSM3067189_04hpf_clustID.txt\", header = None)\n",
        "adata.obs['Cluster'] = list(anno[0])\n",
        "adata.obs['Cluster'] = adata.obs['Cluster'].astype('category')"
      ],
      "execution_count": 0,
      "outputs": []
    },
    {
      "cell_type": "code",
      "metadata": {
        "id": "Tx9_PqiF_Fff",
        "colab_type": "code",
        "colab": {}
      },
      "source": [
        "names = pd.read_csv(\"/content/drive/My Drive/Quantitative Systems Biology 2020/Data/GSE112294_ClusterNames.csv\")\n",
        "new_cluster_names = list(names['ClusterName'][0:4])\n",
        "adata.rename_categories('Cluster', new_cluster_names)"
      ],
      "execution_count": 0,
      "outputs": []
    },
    {
      "cell_type": "markdown",
      "metadata": {
        "id": "9jBKw5KzJXkb",
        "colab_type": "text"
      },
      "source": [
        "What does your data look like?"
      ]
    },
    {
      "cell_type": "code",
      "metadata": {
        "id": "eCRwexrt6Ewh",
        "colab_type": "code",
        "colab": {}
      },
      "source": [
        "adata"
      ],
      "execution_count": 0,
      "outputs": []
    },
    {
      "cell_type": "markdown",
      "metadata": {
        "id": "srWqjZYFILkX",
        "colab_type": "text"
      },
      "source": [
        "# Inspecting, Cleaning, and Normalizing Data"
      ]
    },
    {
      "cell_type": "code",
      "metadata": {
        "id": "Fvqpwujq_rlq",
        "colab_type": "code",
        "colab": {}
      },
      "source": [
        "adata.var_names_make_unique()"
      ],
      "execution_count": 0,
      "outputs": []
    },
    {
      "cell_type": "markdown",
      "metadata": {
        "id": "VGNSxyvQJdGl",
        "colab_type": "text"
      },
      "source": [
        "Checking to make sure nothing is weird"
      ]
    },
    {
      "cell_type": "code",
      "metadata": {
        "id": "E4J9PqPe_tp0",
        "colab_type": "code",
        "colab": {}
      },
      "source": [
        "sc.pl.highest_expr_genes(adata, n_top=20)"
      ],
      "execution_count": 0,
      "outputs": []
    },
    {
      "cell_type": "code",
      "metadata": {
        "id": "zm139CnM6pJT",
        "colab_type": "code",
        "colab": {}
      },
      "source": [
        "sc.pp.filter_cells(adata, min_genes=200)\n",
        "sc.pp.filter_genes(adata, min_cells=3)"
      ],
      "execution_count": 0,
      "outputs": []
    },
    {
      "cell_type": "markdown",
      "metadata": {
        "id": "Z5H6S7mjJnOJ",
        "colab_type": "text"
      },
      "source": [
        "Add the total counts per cell as observations-annotation to adata\n"
      ]
    },
    {
      "cell_type": "code",
      "metadata": {
        "id": "ItF00OYf6wBb",
        "colab_type": "code",
        "colab": {}
      },
      "source": [
        "adata.obs['n_counts'] = adata.X.sum(axis=1)"
      ],
      "execution_count": 0,
      "outputs": []
    },
    {
      "cell_type": "code",
      "metadata": {
        "id": "uyySxfDb6_b7",
        "colab_type": "code",
        "colab": {}
      },
      "source": [
        "sc.pl.violin(adata, ['n_genes', 'n_counts'],\n",
        "             jitter=0.4, multi_panel=True)"
      ],
      "execution_count": 0,
      "outputs": []
    },
    {
      "cell_type": "code",
      "metadata": {
        "id": "xLulNigE7GQj",
        "colab_type": "code",
        "colab": {}
      },
      "source": [
        "sc.pl.scatter(adata, x='n_counts', y='n_genes')"
      ],
      "execution_count": 0,
      "outputs": []
    },
    {
      "cell_type": "code",
      "metadata": {
        "id": "w7am-OHE7O0e",
        "colab_type": "code",
        "colab": {}
      },
      "source": [
        "adata = adata[adata.obs.n_genes < 2500, :]"
      ],
      "execution_count": 0,
      "outputs": []
    },
    {
      "cell_type": "markdown",
      "metadata": {
        "id": "eujvmjWqJsmY",
        "colab_type": "text"
      },
      "source": [
        "Normalize and transform data matrix"
      ]
    },
    {
      "cell_type": "code",
      "metadata": {
        "id": "M7l5iJcv7T2_",
        "colab_type": "code",
        "colab": {}
      },
      "source": [
        "sc.pp.normalize_total(adata, target_sum=1e4)"
      ],
      "execution_count": 0,
      "outputs": []
    },
    {
      "cell_type": "code",
      "metadata": {
        "id": "JaGo-t0m7ZYv",
        "colab_type": "code",
        "colab": {}
      },
      "source": [
        "sc.pp.log1p(adata)"
      ],
      "execution_count": 0,
      "outputs": []
    },
    {
      "cell_type": "markdown",
      "metadata": {
        "id": "CylkiZdWJyQ6",
        "colab_type": "text"
      },
      "source": [
        "Identify genes that are highly expressed and variable"
      ]
    },
    {
      "cell_type": "code",
      "metadata": {
        "id": "RvxhwL-X7ctL",
        "colab_type": "code",
        "colab": {}
      },
      "source": [
        "sc.pp.highly_variable_genes(adata, min_mean=0.0125, max_mean=3, min_disp=0.5)\n",
        "sc.pl.highly_variable_genes(adata)"
      ],
      "execution_count": 0,
      "outputs": []
    },
    {
      "cell_type": "markdown",
      "metadata": {
        "id": "sLC3FHM1J2B6",
        "colab_type": "text"
      },
      "source": [
        "Subset data by variable genes and scale data"
      ]
    },
    {
      "cell_type": "code",
      "metadata": {
        "id": "DnP3eElf7kJi",
        "colab_type": "code",
        "colab": {}
      },
      "source": [
        "adata = adata[:, adata.var.highly_variable]\n",
        "sc.pp.regress_out(adata, ['n_counts'])\n",
        "sc.pp.scale(adata, max_value=10)"
      ],
      "execution_count": 0,
      "outputs": []
    },
    {
      "cell_type": "markdown",
      "metadata": {
        "id": "PB5Y2Zh2IYpr",
        "colab_type": "text"
      },
      "source": [
        "# Plotting Data using Dimensionality Reduction Techniques"
      ]
    },
    {
      "cell_type": "code",
      "metadata": {
        "id": "hAeXX-Nv7vbi",
        "colab_type": "code",
        "colab": {}
      },
      "source": [
        "sc.tl.pca(adata)\n",
        "sc.pl.pca(adata, color = ['Cluster'])"
      ],
      "execution_count": 0,
      "outputs": []
    },
    {
      "cell_type": "code",
      "metadata": {
        "id": "eCiQGwR18UeK",
        "colab_type": "code",
        "colab": {}
      },
      "source": [
        "sc.tl.tsne(adata)\n",
        "sc.pl.tsne(adata, color = ['Cluster'])"
      ],
      "execution_count": 0,
      "outputs": []
    },
    {
      "cell_type": "code",
      "metadata": {
        "id": "MiFW1nHF8mvf",
        "colab_type": "code",
        "colab": {}
      },
      "source": [
        "sc.pp.neighbors(adata, n_neighbors=10, n_pcs=40)\n",
        "sc.tl.umap(adata)\n",
        "sc.pl.umap(adata, color = ['Cluster'])"
      ],
      "execution_count": 0,
      "outputs": []
    },
    {
      "cell_type": "markdown",
      "metadata": {
        "id": "ZtQrUa9zIkDs",
        "colab_type": "text"
      },
      "source": [
        "# Identifying genes that contribute to clusters"
      ]
    },
    {
      "cell_type": "code",
      "metadata": {
        "id": "nLcARv7fBJ52",
        "colab_type": "code",
        "colab": {}
      },
      "source": [
        "sc.tl.rank_genes_groups(adata, 'Cluster', method='wilcoxon')\n",
        "sc.pl.rank_genes_groups(adata, n_genes=25, sharey=False)"
      ],
      "execution_count": 0,
      "outputs": []
    },
    {
      "cell_type": "markdown",
      "metadata": {
        "id": "H0K6r3BHIoRZ",
        "colab_type": "text"
      },
      "source": [
        "# Unsupervised Clustering and Comparing Groups\n"
      ]
    },
    {
      "cell_type": "markdown",
      "metadata": {
        "id": "1sb5yNl6KJOJ",
        "colab_type": "text"
      },
      "source": [
        "Clustering to determine if similar groups arise to proposed clusters"
      ]
    },
    {
      "cell_type": "code",
      "metadata": {
        "id": "y65rGb0s9Dlu",
        "colab_type": "code",
        "colab": {}
      },
      "source": [
        "sc.tl.leiden(adata)\n",
        "sc.pl.umap(adata, color=['leiden'])"
      ],
      "execution_count": 0,
      "outputs": []
    },
    {
      "cell_type": "code",
      "metadata": {
        "id": "NojRsRwP-oe2",
        "colab_type": "code",
        "colab": {}
      },
      "source": [
        "sc.tl.rank_genes_groups(adata, 'leiden', method='wilcoxon')\n",
        "sc.pl.rank_genes_groups(adata, n_genes=25, sharey=False)"
      ],
      "execution_count": 0,
      "outputs": []
    }
  ]
}