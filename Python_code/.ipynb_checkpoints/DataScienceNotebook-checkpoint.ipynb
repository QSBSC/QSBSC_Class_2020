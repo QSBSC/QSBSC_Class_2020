{
 "cells": [
  {
   "cell_type": "markdown",
   "metadata": {
    "colab_type": "text",
    "id": "view-in-github"
   },
   "source": [
    "<a href=\"https://colab.research.google.com/github/QSBSC/QSBSC_Class_2020/blob/master/Python_code/DataScienceNotebook.ipynb\" target=\"_parent\"><img src=\"https://colab.research.google.com/assets/colab-badge.svg\" alt=\"Open In Colab\"/></a>"
   ]
  },
  {
   "cell_type": "markdown",
   "metadata": {
    "colab_type": "text",
    "id": "E3eHLcF4S1kB"
   },
   "source": [
    "# **`Data Science Examples`**"
   ]
  },
  {
   "cell_type": "markdown",
   "metadata": {
    "colab_type": "text",
    "id": "FfVzYbM-TbaC"
   },
   "source": [
    "\n",
    "**Directories and Structure**"
   ]
  },
  {
   "cell_type": "code",
   "execution_count": 0,
   "metadata": {
    "colab": {},
    "colab_type": "code",
    "id": "PFwHsxIyT8JU"
   },
   "outputs": [],
   "source": [
    "import os\n",
    "os.getcwd()"
   ]
  },
  {
   "cell_type": "code",
   "execution_count": 0,
   "metadata": {
    "colab": {},
    "colab_type": "code",
    "id": "XffC6R30UN69"
   },
   "outputs": [],
   "source": [
    "# Now create a new directory\n",
    "if not os.path.exists('NewDirectory'):\n",
    "  os.mkdir('NewDirectory')\n",
    "\n",
    "# Change the working directory to the newly created directory\n",
    "os.chdir('NewDirectory')\n",
    "\n",
    "# Print the current working directory\n",
    "print(\"Current working directory after changing it:\")\n",
    "print(os.getcwd())"
   ]
  },
  {
   "cell_type": "markdown",
   "metadata": {
    "colab_type": "text",
    "id": "apXmljQtUp23"
   },
   "source": [
    "**Generating lists/arrays** *and storing them as variables*"
   ]
  },
  {
   "cell_type": "code",
   "execution_count": 0,
   "metadata": {
    "colab": {},
    "colab_type": "code",
    "id": "0YqPHt0gUwDm"
   },
   "outputs": [],
   "source": [
    "import numpy as np\n",
    "\n",
    "a = np.array([0,1,2,3,4,5])\n",
    "b = np.array([5,4,3,2,1,0])\n",
    "\n",
    "print(a)\n",
    "print(b)"
   ]
  },
  {
   "cell_type": "markdown",
   "metadata": {
    "colab_type": "text",
    "id": "498k3tYaZQ5M"
   },
   "source": [
    "**Plotting lists/arrays** "
   ]
  },
  {
   "cell_type": "code",
   "execution_count": 0,
   "metadata": {
    "colab": {},
    "colab_type": "code",
    "id": "aFqP_sNmZRCo"
   },
   "outputs": [],
   "source": [
    "import matplotlib.pyplot as plt\n",
    "\n",
    "plt.plot(a,b)\n",
    "plt.show()"
   ]
  },
  {
   "cell_type": "markdown",
   "metadata": {
    "colab_type": "text",
    "id": "8h2oe4fafy-l"
   },
   "source": [
    "*Adding labels/titles*"
   ]
  },
  {
   "cell_type": "code",
   "execution_count": 0,
   "metadata": {
    "colab": {},
    "colab_type": "code",
    "id": "tE5Hlv55Zh2L"
   },
   "outputs": [],
   "source": [
    "plt.plot(a,b)\n",
    "plt.xlabel(\"Variable1\")\n",
    "plt.ylabel(\"Variable2\")\n",
    "plt.title(\"Time Course\")\n",
    "plt.show()"
   ]
  },
  {
   "cell_type": "markdown",
   "metadata": {
    "colab_type": "text",
    "id": "kTHZirBZZTyO"
   },
   "source": [
    "**Dataframes**"
   ]
  },
  {
   "cell_type": "code",
   "execution_count": 0,
   "metadata": {
    "colab": {},
    "colab_type": "code",
    "id": "6A5z_ArxVFrx"
   },
   "outputs": [],
   "source": [
    "import pandas as pd\n",
    "\n",
    "df = pd.DataFrame({\"Variable1\":a,\n",
    "                   \"Variable2\":b})\n",
    "\n",
    "print(df)"
   ]
  },
  {
   "cell_type": "markdown",
   "metadata": {
    "colab_type": "text",
    "id": "vt54PHFDd-f9"
   },
   "source": [
    "*Plotting dataframes*"
   ]
  },
  {
   "cell_type": "code",
   "execution_count": 0,
   "metadata": {
    "colab": {},
    "colab_type": "code",
    "id": "lcneG3owZYhi"
   },
   "outputs": [],
   "source": [
    "df.plot(\"Variable1\", \"Variable2\")\n",
    "plt.show()"
   ]
  },
  {
   "cell_type": "markdown",
   "metadata": {
    "colab_type": "text",
    "id": "cW4qgT6mgNej"
   },
   "source": [
    "***Plotting correlations***"
   ]
  },
  {
   "cell_type": "code",
   "execution_count": 0,
   "metadata": {
    "colab": {},
    "colab_type": "code",
    "id": "iVkphk82ZmOP"
   },
   "outputs": [],
   "source": [
    "df[\"Variable3\"] = pd.Series([2.5,2.5,2.5,2.5,2.5,2.5])\n",
    "df[\"Variable4\"] = pd.Series([0,1,2,3,4,5])\n",
    "df.plot(x=\"Variable1\", y=[\"Variable2\",\"Variable3\",\"Variable4\"])\n",
    "plt.xlabel(\"Variable1\")\n",
    "plt.ylabel(\"Other Variables\")\n",
    "plt.title(\"Correlations\")\n",
    "plt.show()\n"
   ]
  },
  {
   "cell_type": "markdown",
   "metadata": {
    "colab_type": "text",
    "id": "ScIlvwpmePhU"
   },
   "source": [
    "**From messy data to data science**"
   ]
  },
  {
   "cell_type": "code",
   "execution_count": 0,
   "metadata": {
    "colab": {},
    "colab_type": "code",
    "id": "AHnAcWKqbhT-"
   },
   "outputs": [],
   "source": [
    "from mpl_toolkits.mplot3d import Axes3D\n",
    "from sklearn import datasets\n",
    "from sklearn.decomposition import PCA\n",
    "\n",
    "iris = datasets.load_iris()\n",
    "X = iris.data\n",
    "y = iris.target\n"
   ]
  },
  {
   "cell_type": "markdown",
   "metadata": {
    "colab_type": "text",
    "id": "EdcC4WW06RrL"
   },
   "source": [
    "*Getting data in the correct format*"
   ]
  },
  {
   "cell_type": "code",
   "execution_count": 0,
   "metadata": {
    "colab": {},
    "colab_type": "code",
    "id": "id0Gl-Mdg99s"
   },
   "outputs": [],
   "source": [
    "iris_df = pd.DataFrame(data= np.c_[iris['data'], iris['target']],\n",
    "                     columns= iris['feature_names'] + ['target'])\n",
    "iris_df.head()"
   ]
  },
  {
   "cell_type": "markdown",
   "metadata": {
    "colab_type": "text",
    "id": "wrYdz83r6XSz"
   },
   "source": [
    "*Dimensionality Reduction*"
   ]
  },
  {
   "cell_type": "code",
   "execution_count": 0,
   "metadata": {
    "colab": {},
    "colab_type": "code",
    "id": "l_M7Pdukh7vF"
   },
   "outputs": [],
   "source": [
    "fig = plt.figure(1, figsize=(8, 6))\n",
    "ax = Axes3D(fig, elev=-150, azim=110)\n",
    "X_reduced = PCA(n_components=3).fit_transform(X)\n",
    "ax.scatter(X_reduced[:, 0], X_reduced[:, 1], X_reduced[:, 2],\n",
    "           cmap=plt.cm.Set1, edgecolor='k', s=40)\n",
    "ax.set_title(\"PCA Top 3 Dimensions\")\n",
    "ax.set_xlabel(\"PCA_1\")\n",
    "ax.w_xaxis.set_ticklabels([])\n",
    "ax.set_ylabel(\"PCA_2\")\n",
    "ax.w_yaxis.set_ticklabels([])\n",
    "ax.set_zlabel(\"PCA_3\")\n",
    "ax.w_zaxis.set_ticklabels([])\n",
    "\n",
    "plt.show()"
   ]
  },
  {
   "cell_type": "markdown",
   "metadata": {
    "colab_type": "text",
    "id": "QiGRR_q86b2i"
   },
   "source": [
    "**Ground Truth**"
   ]
  },
  {
   "cell_type": "code",
   "execution_count": 0,
   "metadata": {
    "colab": {},
    "colab_type": "code",
    "id": "kkazJHJf0Jwi"
   },
   "outputs": [],
   "source": [
    "# Ground Truth\n",
    "fig = plt.figure(1, figsize=(8, 6))\n",
    "ax = Axes3D(fig, elev=-150, azim=110)\n",
    "X_reduced = PCA(n_components=3).fit_transform(X)\n",
    "ax.scatter(X_reduced[:, 0], X_reduced[:, 1], X_reduced[:, 2], c=y,\n",
    "           cmap=plt.cm.Set1, edgecolor='k', s=40)\n",
    "ax.set_title(\"PCA Top 3 Dimensions\")\n",
    "ax.set_xlabel(\"PCA_1\")\n",
    "ax.w_xaxis.set_ticklabels([])\n",
    "ax.set_ylabel(\"PCA_2\")\n",
    "ax.w_yaxis.set_ticklabels([])\n",
    "ax.set_zlabel(\"PCA_3\")\n",
    "ax.w_zaxis.set_ticklabels([])\n",
    "\n",
    "plt.show()"
   ]
  },
  {
   "cell_type": "markdown",
   "metadata": {
    "colab_type": "text",
    "id": "V2rwWlXh6i_y"
   },
   "source": [
    "*Clustering - trying to find the number that works best*"
   ]
  },
  {
   "cell_type": "code",
   "execution_count": 0,
   "metadata": {
    "colab": {},
    "colab_type": "code",
    "id": "AdylueKljlc0"
   },
   "outputs": [],
   "source": [
    "# Testing different numbers of clusters\n",
    "from sklearn.cluster import KMeans\n",
    "\n",
    "estimators = [('k_means_iris_8', KMeans(n_clusters=8)),\n",
    "              ('k_means_iris_3', KMeans(n_clusters=3))]\n",
    "\n",
    "fignum = 1\n",
    "titles = ['8 clusters', '3 clusters']\n",
    "for name, est in estimators:\n",
    "    fig = plt.figure(fignum, figsize=(8, 6))\n",
    "    ax = Axes3D(fig, elev=-150, azim=110)\n",
    "    est.fit(X_reduced)\n",
    "    labels = est.labels_\n",
    "\n",
    "    ax.scatter(X_reduced[:, 0], X_reduced[:, 1], X_reduced[:, 2],\n",
    "               c=labels.astype(np.float), edgecolor='k')\n",
    "\n",
    "    ax.w_xaxis.set_ticklabels([])\n",
    "    ax.w_yaxis.set_ticklabels([])\n",
    "    ax.w_zaxis.set_ticklabels([])\n",
    "    ax.set_xlabel('PCA_1')\n",
    "    ax.set_ylabel('PCA_2')\n",
    "    ax.set_zlabel('PCA_3')\n",
    "    ax.set_title(titles[fignum - 1])\n",
    "    ax.dist = 12\n",
    "    fignum = fignum + 1\n",
    "\n",
    "\n",
    "\n",
    "fig.show()"
   ]
  },
  {
   "cell_type": "markdown",
   "metadata": {
    "colab_type": "text",
    "id": "SoLA3fmQ6reL"
   },
   "source": [
    "**New data point - what group does it fall into?**"
   ]
  },
  {
   "cell_type": "code",
   "execution_count": 0,
   "metadata": {
    "colab": {},
    "colab_type": "code",
    "id": "xsF-E4rN3hoI"
   },
   "outputs": [],
   "source": [
    "fig = plt.figure(1, figsize=(8, 6))\n",
    "ax = Axes3D(fig, elev=-150, azim=110)\n",
    "km = KMeans(n_clusters=3).fit(X_reduced)\n",
    "labels = km.labels_\n",
    "\n",
    "ax.scatter(X_reduced[:, 0], X_reduced[:, 1], X_reduced[:, 2],\n",
    "            c=labels.astype(np.float), edgecolor='k')\n",
    "\n",
    "ax.scatter(-2.5, 0, 0, c = \"r\", edgecolor=\"k\", s=1000)\n",
    "\n",
    "ax.w_xaxis.set_ticklabels([])\n",
    "ax.w_yaxis.set_ticklabels([])\n",
    "ax.w_zaxis.set_ticklabels([])\n",
    "ax.set_xlabel('PCA_1')\n",
    "ax.set_ylabel('PCA_2')\n",
    "ax.set_zlabel('PCA_3')\n",
    "ax.set_title(\"3 Clusters\")\n",
    "fig.show()\n"
   ]
  },
  {
   "cell_type": "markdown",
   "metadata": {
    "colab_type": "text",
    "id": "1iW3Qnus6zeU"
   },
   "source": [
    "**Example Clustering**"
   ]
  },
  {
   "cell_type": "code",
   "execution_count": 0,
   "metadata": {
    "colab": {},
    "colab_type": "code",
    "id": "ZLoCv15flv_f"
   },
   "outputs": [],
   "source": [
    "# Example Clustering\n",
    "import scipy.cluster.hierarchy as shc\n",
    "\n",
    "plt.figure(figsize=(20, 15))\n",
    "plt.title(\"Customer Dendograms\")\n",
    "dend = shc.dendrogram(shc.linkage(iris_df, method='ward'))\n",
    "\n",
    "plt.title('Hierarchical Clustering Dendrogram')\n",
    "# plot the top three levels of the dendrogram\n",
    "plt.show()"
   ]
  }
 ],
 "metadata": {
  "colab": {
   "collapsed_sections": [],
   "include_colab_link": true,
   "name": "DataScienceNotebook.ipynb",
   "provenance": [],
   "toc_visible": true
  },
  "kernelspec": {
   "display_name": "Python 3",
   "language": "python",
   "name": "python3"
  },
  "language_info": {
   "codemirror_mode": {
    "name": "ipython",
    "version": 3
   },
   "file_extension": ".py",
   "mimetype": "text/x-python",
   "name": "python",
   "nbconvert_exporter": "python",
   "pygments_lexer": "ipython3",
   "version": "3.7.4"
  }
 },
 "nbformat": 4,
 "nbformat_minor": 1
}
