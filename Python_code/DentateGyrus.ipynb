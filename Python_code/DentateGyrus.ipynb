{
 "cells": [
  {
   "cell_type": "code",
   "execution_count": null,
   "metadata": {},
   "outputs": [],
   "source": [
    "!pip install velocyto"
   ]
  },
  {
   "cell_type": "code",
   "execution_count": null,
   "metadata": {},
   "outputs": [],
   "source": [
    "import sys\n",
    "import numpy as np\n",
    "import matplotlib\n",
    "import matplotlib.pyplot as plt\n",
    "import loompy\n",
    "import velocyto as vcy\n",
    "import logging\n",
    "from sklearn.svm import SVR\n",
    "from sklearn.linear_model import LinearRegression\n",
    "from statsmodels.nonparametric.smoothers_lowess import lowess\n",
    "from scipy.interpolate import interp1d\n",
    "\n",
    "logging.basicConfig(stream=sys.stdout, format='%(asctime)s - %(levelname)s - %(message)s', level=logging.DEBUG)\n",
    "%matplotlib inline\n",
    "plt.rcParams['pdf.fonttype'] = 42"
   ]
  },
  {
   "cell_type": "code",
   "execution_count": null,
   "metadata": {},
   "outputs": [],
   "source": [
    "# plotting utility functions\n",
    "def despline():\n",
    "    ax1 = plt.gca()\n",
    "    # Hide the right and top spines\n",
    "    ax1.spines['right'].set_visible(False)\n",
    "    ax1.spines['top'].set_visible(False)\n",
    "    # Only show ticks on the left and bottom spines\n",
    "    ax1.yaxis.set_ticks_position('left')\n",
    "    ax1.xaxis.set_ticks_position('bottom')\n",
    "    \n",
    "def minimal_xticks(start, end):\n",
    "    end_ = np.around(end, -int(np.log10(end))+1)\n",
    "    xlims = np.linspace(start, end_, 5)\n",
    "    xlims_tx = [\"\"]*len(xlims)\n",
    "    xlims_tx[0], xlims_tx[-1] = f\"{xlims[0]:.0f}\", f\"{xlims[-1]:.02f}\"\n",
    "    plt.xticks(xlims, xlims_tx)\n",
    "\n",
    "    \n",
    "def minimal_yticks(start, end):\n",
    "    end_ = np.around(end, -int(np.log10(end))+1)\n",
    "    ylims = np.linspace(start, end_, 5)\n",
    "    ylims_tx = [\"\"]*len(ylims)\n",
    "    ylims_tx[0], ylims_tx[-1] = f\"{ylims[0]:.0f}\", f\"{ylims[-1]:.02f}\"\n",
    "    plt.yticks(ylims, ylims_tx)"
   ]
  },
  {
   "cell_type": "code",
   "execution_count": null,
   "metadata": {},
   "outputs": [],
   "source": [
    "!mkdir data"
   ]
  },
  {
   "cell_type": "code",
   "execution_count": null,
   "metadata": {},
   "outputs": [],
   "source": [
    "from urllib.request import urlretrieve\n",
    "urlretrieve(\"http://pklab.med.harvard.edu/velocyto/DentateGyrus/DentateGyrus.loom\", \"data/DentateGyrus.loom\")"
   ]
  },
  {
   "cell_type": "markdown",
   "metadata": {},
   "source": [
    "# Load data"
   ]
  },
  {
   "cell_type": "code",
   "execution_count": null,
   "metadata": {},
   "outputs": [],
   "source": [
    "# Crate an analysis object\n",
    "vlm = vcy.VelocytoLoom(\"data/DentateGyrus.loom\")"
   ]
  },
  {
   "cell_type": "code",
   "execution_count": null,
   "metadata": {},
   "outputs": [],
   "source": [
    "# Read column attributes form the loom file and specify colors\n",
    "vlm.ts = np.column_stack([vlm.ca[\"TSNE1\"], vlm.ca[\"TSNE2\"]])\n",
    "colors_dict = {'RadialGlia': np.array([ 0.95,  0.6,  0.1]), 'RadialGlia2': np.array([ 0.85,  0.3,  0.1]), 'ImmAstro': np.array([ 0.8,  0.02,  0.1]),\n",
    "              'GlialProg': np.array([ 0.81,  0.43,  0.72352941]), 'OPC': np.array([ 0.61,  0.13,  0.72352941]), 'nIPC': np.array([ 0.9,  0.8 ,  0.3]),\n",
    "              'Nbl1': np.array([ 0.7,  0.82 ,  0.6]), 'Nbl2': np.array([ 0.448,  0.85490196,  0.95098039]),  'ImmGranule1': np.array([ 0.35,  0.4,  0.82]),\n",
    "              'ImmGranule2': np.array([ 0.23,  0.3,  0.7]), 'Granule': np.array([ 0.05,  0.11,  0.51]), 'CA': np.array([ 0.2,  0.53,  0.71]),\n",
    "               'CA1-Sub': np.array([ 0.1,  0.45,  0.3]), 'CA2-3-4': np.array([ 0.3,  0.35,  0.5])}\n",
    "vlm.set_clusters(vlm.ca[\"ClusterName\"], cluster_colors_dict=colors_dict)"
   ]
  },
  {
   "cell_type": "code",
   "execution_count": null,
   "metadata": {},
   "outputs": [],
   "source": [
    "# Plot TSNE\n",
    "plt.figure(figsize=(10,10))\n",
    "vcy.scatter_viz(vlm.ts[:,0], vlm.ts[:,1], c=vlm.colorandum, s=2)\n",
    "for i in range(max(vlm.ca[\"Clusters\"])):\n",
    "    ts_m = np.median(vlm.ts[vlm.ca[\"Clusters\"] == i, :], 0)\n",
    "    plt.text(ts_m[0], ts_m[1], str(vlm.cluster_labels[vlm.ca[\"Clusters\"] == i][0]),\n",
    "             fontsize=13, bbox={\"facecolor\":\"w\", \"alpha\":0.6})\n",
    "plt.axis(\"off\");"
   ]
  },
  {
   "cell_type": "code",
   "execution_count": null,
   "metadata": {},
   "outputs": [],
   "source": [
    "vlm.plot_fractions()"
   ]
  },
  {
   "cell_type": "markdown",
   "metadata": {},
   "source": [
    "# Velocity Analysis"
   ]
  },
  {
   "cell_type": "code",
   "execution_count": null,
   "metadata": {},
   "outputs": [],
   "source": [
    "vlm.filter_cells(bool_array=vlm.initial_Ucell_size > np.percentile(vlm.initial_Ucell_size, 0.4))"
   ]
  },
  {
   "cell_type": "code",
   "execution_count": null,
   "metadata": {},
   "outputs": [],
   "source": [
    "vlm.ts = np.column_stack([vlm.ca[\"TSNE1\"], vlm.ca[\"TSNE2\"]])"
   ]
  },
  {
   "cell_type": "code",
   "execution_count": null,
   "metadata": {},
   "outputs": [],
   "source": [
    "vlm.score_detection_levels(min_expr_counts=40, min_cells_express=30)\n",
    "vlm.filter_genes(by_detection_levels=True)"
   ]
  },
  {
   "cell_type": "code",
   "execution_count": null,
   "metadata": {},
   "outputs": [],
   "source": [
    "vlm.score_cv_vs_mean(3000, plot=True, max_expr_avg=35)\n",
    "vlm.filter_genes(by_cv_vs_mean=True)"
   ]
  },
  {
   "cell_type": "code",
   "execution_count": null,
   "metadata": {},
   "outputs": [],
   "source": [
    "vlm.score_detection_levels(min_expr_counts=0, min_cells_express=0, min_expr_counts_U=25, min_cells_express_U=20)\n",
    "vlm.score_cluster_expression(min_avg_U=0.01, min_avg_S=0.08)\n",
    "vlm.filter_genes(by_detection_levels=True, by_cluster_expression=True)"
   ]
  },
  {
   "cell_type": "code",
   "execution_count": null,
   "metadata": {},
   "outputs": [],
   "source": [
    "# best with sample and expression scaling\n",
    "vlm._normalize_S(relative_size=vlm.initial_cell_size,\n",
    "                 target_size=np.mean(vlm.initial_cell_size))\n",
    "vlm._normalize_U(relative_size=vlm.initial_Ucell_size,\n",
    "                 target_size=np.mean(vlm.initial_Ucell_size))"
   ]
  },
  {
   "cell_type": "code",
   "execution_count": null,
   "metadata": {},
   "outputs": [],
   "source": [
    "vlm.perform_PCA()\n",
    "plt.plot(np.cumsum(vlm.pca.explained_variance_ratio_)[:100])\n",
    "n_comps = np.where(np.diff(np.diff(np.cumsum(vlm.pca.explained_variance_ratio_))>0.002))[0][0]\n",
    "plt.axvline(n_comps, c=\"k\")\n",
    "n_comps"
   ]
  },
  {
   "cell_type": "code",
   "execution_count": null,
   "metadata": {},
   "outputs": [],
   "source": [
    "k = 500\n",
    "vlm.knn_imputation(n_pca_dims=n_comps, k=k, balanced=True, b_sight=k*8, b_maxl=k*4, n_jobs=16)"
   ]
  },
  {
   "cell_type": "code",
   "execution_count": null,
   "metadata": {},
   "outputs": [],
   "source": [
    "vlm.fit_gammas(limit_gamma=False, fit_offset=False)"
   ]
  },
  {
   "cell_type": "code",
   "execution_count": null,
   "metadata": {},
   "outputs": [],
   "source": [
    "vlm.predict_U()\n",
    "vlm.calculate_velocity()\n",
    "vlm.calculate_shift(assumption=\"constant_velocity\")\n",
    "vlm.extrapolate_cell_at_t(delta_t=1.)"
   ]
  },
  {
   "cell_type": "code",
   "execution_count": null,
   "metadata": {},
   "outputs": [],
   "source": [
    "plt.figure(None, (17,2.8), dpi=80)\n",
    "gs = plt.GridSpec(1,6)\n",
    "for i, gn in enumerate([\"Pdgfra\",\"Igfbpl1\"]):\n",
    "    ax = plt.subplot(gs[i*3])\n",
    "    try:\n",
    "        ix=np.where(vlm.ra[\"Gene\"] == gn)[0][0]\n",
    "    except:\n",
    "        continue\n",
    "    vcy.scatter_viz(vlm.Sx_sz[ix,:], vlm.Ux_sz[ix,:], c=vlm.colorandum, s=5, alpha=0.4, rasterized=True)\n",
    "    plt.title(gn)\n",
    "    xnew = np.linspace(0,vlm.Sx[ix,:].max())\n",
    "    plt.plot(xnew, vlm.gammas[ix] * xnew + vlm.q[ix], c=\"k\")\n",
    "    plt.ylim(0, np.max(vlm.Ux_sz[ix,:])*1.02)\n",
    "    plt.xlim(0, np.max(vlm.Sx_sz[ix,:])*1.02)\n",
    "    minimal_yticks(0, np.max(vlm.Ux_sz[ix,:])*1.02)\n",
    "    minimal_xticks(0, np.max(vlm.Sx_sz[ix,:])*1.02)\n",
    "    despline()\n",
    "    \n",
    "    vlm.plot_velocity_as_color(gene_name=gn, gs=gs[i*3+1], s=3, rasterized=True)\n",
    "\n",
    "    vlm.plot_expression_as_color(gene_name=gn, gs=gs[i*3+2], s=3, rasterized=True)\n",
    "    \n",
    "plt.tight_layout()\n",
    "plt.savefig(\"../figures/Fig3_selection.pdf\")"
   ]
  },
  {
   "cell_type": "code",
   "execution_count": null,
   "metadata": {},
   "outputs": [],
   "source": [
    "plt.figure(None, (16.5,15), dpi=80)\n",
    "gs = plt.GridSpec(6,6)\n",
    "for i, gn in enumerate([\"Tnc\", \"Gfap\", \"Tac2\",\"Igfbpl1\", 'Ptprn',\n",
    "                        \"Sema3c\", \"Neurod6\", \"Stmn2\", \"Sema5a\", \"C1ql3\", \"Cpne4\", \"Cck\"]):\n",
    "    ax = plt.subplot(gs[i*3])\n",
    "    try:\n",
    "        ix=np.where(vlm.ra[\"Gene\"] == gn)[0][0]\n",
    "    except:\n",
    "        continue\n",
    "    vcy.scatter_viz(vlm.Sx_sz[ix,:], vlm.Ux_sz[ix,:], c=vlm.colorandum, s=5, alpha=0.4, rasterized=True)\n",
    "    plt.title(gn)\n",
    "    xnew = np.linspace(0,vlm.Sx[ix,:].max())\n",
    "    plt.plot(xnew, vlm.gammas[ix] * xnew + vlm.q[ix], c=\"k\")\n",
    "    plt.ylim(0, np.max(vlm.Ux_sz[ix,:])*1.02)\n",
    "    plt.xlim(0, np.max(vlm.Sx_sz[ix,:])*1.02)\n",
    "    minimal_yticks(0, np.max(vlm.Ux_sz[ix,:])*1.02)\n",
    "    minimal_xticks(0, np.max(vlm.Sx_sz[ix,:])*1.02)\n",
    "    despline()\n",
    "    \n",
    "    vlm.plot_velocity_as_color(gene_name=gn, gs=gs[i*3+1], s=3, rasterized=True)\n",
    "\n",
    "    vlm.plot_expression_as_color(gene_name=gn, gs=gs[i*3+2], s=3, rasterized=True)\n",
    "    \n",
    "plt.tight_layout()\n",
    "plt.savefig(\"../figures/Suppl_phase_selection.pdf\")"
   ]
  },
  {
   "cell_type": "code",
   "execution_count": null,
   "metadata": {},
   "outputs": [],
   "source": [
    "vlm.estimate_transition_prob(hidim=\"Sx_sz\", embed=\"ts\", transform=\"sqrt\", psc=1,\n",
    "                             n_neighbors=2000, knn_random=True, sampled_fraction=0.5)"
   ]
  },
  {
   "cell_type": "code",
   "execution_count": null,
   "metadata": {},
   "outputs": [],
   "source": [
    "vlm.calculate_embedding_shift(sigma_corr = 0.05, expression_scaling=False)\n",
    "vlm.calculate_grid_arrows(smooth=0.8, steps=(40, 40), n_neighbors=300)"
   ]
  },
  {
   "cell_type": "code",
   "execution_count": null,
   "metadata": {},
   "outputs": [],
   "source": [
    "plt.figure(None,(14,14))\n",
    "quiver_scale = 60\n",
    "\n",
    "plt.scatter(vlm.embedding[:, 0], vlm.embedding[:, 1],\n",
    "            c=\"0.8\", alpha=0.2, s=10, edgecolor=\"\")\n",
    "\n",
    "ix_choice = np.random.choice(vlm.embedding.shape[0], size=int(vlm.embedding.shape[0]/1.), replace=False)\n",
    "plt.scatter(vlm.embedding[ix_choice, 0], vlm.embedding[ix_choice, 1],\n",
    "            c=\"0.8\", alpha=0.4, s=10, edgecolor=(0,0,0,1), lw=0.3, rasterized=True)\n",
    "\n",
    "quiver_kwargs=dict(headaxislength=7, headlength=11, headwidth=8,linewidths=0.25, width=0.00045,edgecolors=\"k\", color=vlm.colorandum[ix_choice], alpha=1)\n",
    "plt.quiver(vlm.embedding[ix_choice, 0], vlm.embedding[ix_choice, 1],\n",
    "           vlm.delta_embedding[ix_choice, 0], vlm.delta_embedding[ix_choice, 1],\n",
    "           scale=quiver_scale, **quiver_kwargs)\n",
    "\n",
    "plt.axis(\"off\")\n",
    "plt.savefig(\"../figures/full_arrows.pdf\")"
   ]
  },
  {
   "cell_type": "code",
   "execution_count": null,
   "metadata": {},
   "outputs": [],
   "source": [
    "# initial divide by mean\n",
    "plt.figure(None,(20,10))\n",
    "vlm.plot_grid_arrows(quiver_scale=0.48,\n",
    "                     scatter_kwargs_dict={\"alpha\":0.35, \"lw\":0.35, \"edgecolor\":\"0.4\", \"s\":38, \"rasterized\":True}, min_mass=24, angles='xy', scale_units='xy',\n",
    "                     headaxislength=2.75, headlength=5, headwidth=4.8, minlength=1.5,\n",
    "                     plot_random=True, scale_type=\"absolute\")\n",
    "plt.savefig(\"../figures/vectorfield.pdf\")"
   ]
  },
  {
   "cell_type": "markdown",
   "metadata": {},
   "source": [
    "# Produce non default plots"
   ]
  },
  {
   "cell_type": "code",
   "execution_count": null,
   "metadata": {},
   "outputs": [],
   "source": [
    "def gaussian_kernel(X, mu = 0, sigma=1):\n",
    "    return np.exp(-(X - mu)**2 / (2*sigma**2)) / np.sqrt(2*np.pi*sigma**2)"
   ]
  },
  {
   "cell_type": "code",
   "execution_count": null,
   "metadata": {},
   "outputs": [],
   "source": [
    "from scipy.stats import norm\n",
    "from sklearn.neighbors import NearestNeighbors"
   ]
  },
  {
   "cell_type": "code",
   "execution_count": null,
   "metadata": {},
   "outputs": [],
   "source": [
    "plt.figure(None,(6,6))\n",
    "\n",
    "steps = 45, 45\n",
    "grs = []\n",
    "for dim_i in range(vlm.embedding.shape[1]):\n",
    "    m, M = np.min(vlm.embedding[:, dim_i]), np.max(vlm.embedding[:, dim_i])\n",
    "    m = m - 0.025 * np.abs(M - m)\n",
    "    M = M + 0.025 * np.abs(M - m)\n",
    "    gr = np.linspace(m, M, steps[dim_i])\n",
    "    grs.append(gr)\n",
    "\n",
    "meshes_tuple = np.meshgrid(*grs)\n",
    "gridpoints_coordinates = np.vstack([i.flat for i in meshes_tuple]).T\n",
    "gridpoints_coordinates = gridpoints_coordinates + norm.rvs(loc=0, scale=0.15, size=gridpoints_coordinates.shape)\n",
    "\n",
    "nn = NearestNeighbors()\n",
    "nn.fit(vlm.embedding)\n",
    "dist, ixs = nn.kneighbors(gridpoints_coordinates, 20)\n",
    "ix_choice = ixs[:,0].flat[:]\n",
    "ix_choice = np.unique(ix_choice)\n",
    "\n",
    "nn = NearestNeighbors()\n",
    "nn.fit(vlm.embedding)\n",
    "dist, ixs = nn.kneighbors(vlm.embedding[ix_choice], 20)\n",
    "density_extimate = gaussian_kernel(dist, mu=0, sigma=0.5).sum(1)\n",
    "bool_density = density_extimate > np.percentile(density_extimate, 25)\n",
    "ix_choice = ix_choice[bool_density]\n",
    "\n",
    "plt.scatter(vlm.embedding[:, 0], vlm.embedding[:, 1],\n",
    "            c=vlm.colorandum, alpha=0.2, s=120, edgecolor=\"\")\n",
    "plt.scatter(vlm.embedding[ix_choice, 0], vlm.embedding[ix_choice, 1],\n",
    "            c=vlm.colorandum[ix_choice], alpha=1, s=120, edgecolor=\"k\")\n",
    "\n",
    "quiver_kwargs=dict(scale=6.8, headaxislength=9, headlength=15, headwidth=14,linewidths=0.4, edgecolors=\"k\", color=\"k\", alpha=1)\n",
    "plt.quiver(vlm.embedding[ix_choice, 0], vlm.embedding[ix_choice, 1],\n",
    "           vlm.delta_embedding[ix_choice, 0], vlm.delta_embedding[ix_choice, 1],\n",
    "           **quiver_kwargs)\n",
    "\n",
    "plt.xlim(-6.,6) \n",
    "plt.ylim(-5.5,7.5)\n",
    "plt.savefig(\"../figures/grid_arrows_neuro.pdf\")"
   ]
  },
  {
   "cell_type": "code",
   "execution_count": null,
   "metadata": {},
   "outputs": [],
   "source": [
    "plt.figure(None,(6,6))\n",
    "\n",
    "steps = 55, 55\n",
    "grs = []\n",
    "for dim_i in range(vlm.embedding.shape[1]):\n",
    "    m, M = np.min(vlm.embedding[:, dim_i]), np.max(vlm.embedding[:, dim_i])\n",
    "    m = m - 0.025 * np.abs(M - m)\n",
    "    M = M + 0.025 * np.abs(M - m)\n",
    "    gr = np.linspace(m, M, steps[dim_i])\n",
    "    grs.append(gr)\n",
    "\n",
    "meshes_tuple = np.meshgrid(*grs)\n",
    "gridpoints_coordinates = np.vstack([i.flat for i in meshes_tuple]).T\n",
    "gridpoints_coordinates = gridpoints_coordinates + norm.rvs(loc=0, scale=0.15, size=gridpoints_coordinates.shape)\n",
    "\n",
    "from sklearn.neighbors import NearestNeighbors\n",
    "nn = NearestNeighbors()\n",
    "nn.fit(vlm.embedding)\n",
    "dist, ixs = nn.kneighbors(gridpoints_coordinates, 20)\n",
    "ix_choice = ixs[:,0].flat[:]\n",
    "ix_choice = np.unique(ix_choice)\n",
    "\n",
    "nn = NearestNeighbors()\n",
    "nn.fit(vlm.embedding)\n",
    "dist, ixs = nn.kneighbors(vlm.embedding[ix_choice], 20)\n",
    "density_extimate = gaussian_kernel(dist, mu=0, sigma=0.5).sum(1)\n",
    "bool_density = density_extimate > np.percentile(density_extimate, 30)\n",
    "ix_choice = ix_choice[bool_density]\n",
    "\n",
    "plt.scatter(vlm.embedding[:, 0], vlm.embedding[:, 1],\n",
    "            c=vlm.colorandum, alpha=0.2, s=120, edgecolor=\"\")\n",
    "\n",
    "plt.scatter(vlm.embedding[ix_choice, 0], vlm.embedding[ix_choice, 1],\n",
    "            c=vlm.colorandum[ix_choice], alpha=1, s=120, edgecolor=\"k\")\n",
    "\n",
    "quiver_kwargs=dict(scale=6.8, headaxislength=9, headlength=15, headwidth=14,linewidths=0.4, edgecolors=\"k\", color=\"k\", alpha=1)\n",
    "#quiver_kwargs=dict(headaxislength=8, headlength=10, headwidth=1,linewidths=0.1, edgecolors=\"k\", color=self.colorandum[ix_choice])\n",
    "\n",
    "\n",
    "plt.quiver(vlm.embedding[ix_choice, 0], vlm.embedding[ix_choice, 1],\n",
    "           vlm.delta_embedding[ix_choice, 0], vlm.delta_embedding[ix_choice, 1],\n",
    "           **quiver_kwargs)\n",
    "\n",
    "plt.xlim(-10,-1)\n",
    "plt.ylim(-20.5,-14)\n",
    "plt.savefig(\"../figures/grid_arrows_oligos.pdf\")\n"
   ]
  },
  {
   "cell_type": "code",
   "execution_count": null,
   "metadata": {},
   "outputs": [],
   "source": [
    "vlm.estimate_transition_prob(hidim=\"Sx_sz\", embed=\"ts\", transform=\"sqrt\", psc=1,\n",
    "                             n_neighbors=4000, knn_random=True, sampled_fraction=0.98, calculate_randomized=False)"
   ]
  },
  {
   "cell_type": "code",
   "execution_count": null,
   "metadata": {},
   "outputs": [],
   "source": [
    "vlm.calculate_embedding_shift(sigma_corr = 0.05, expression_scaling=False)"
   ]
  },
  {
   "cell_type": "code",
   "execution_count": null,
   "metadata": {},
   "outputs": [],
   "source": [
    "transition_probs = np.copy(vlm.transition_prob)"
   ]
  },
  {
   "cell_type": "code",
   "execution_count": null,
   "metadata": {},
   "outputs": [],
   "source": [
    "plt.figure(None,(10,3), dpi=130)\n",
    "plt.subplot(131)\n",
    "ix1 = 9187\n",
    "print(ix1)\n",
    "ix = ix1\n",
    "neigh_bool = (vlm.embedding_knn[ix,:].A[0] > 0)\n",
    "colorandum = vlm.transition_prob[ix,:][neigh_bool]\n",
    "#print(np.percentile(colorandum, 10))\n",
    "#print(np.percentile(colorandum, 90))\n",
    "colorandum -= 1e-6 \n",
    "colorandum = colorandum / 7e-4\n",
    "colorandum = np.clip(colorandum, 0, 1)\n",
    "plt.scatter(vlm.embedding[neigh_bool,:][:, 0][np.argsort(colorandum)],\n",
    "            vlm.embedding[neigh_bool,:][:, 1][np.argsort(colorandum)],\n",
    "            c=colorandum[np.argsort(colorandum)], \n",
    "            cmap=plt.cm.viridis, alpha=0.4, lw=0.7, s=50, edgecolor=\"0.5\", rasterized=True)\n",
    "plt.scatter(vlm.embedding[ix, 0], vlm.embedding[ix, 1],\n",
    "            c=\"r\", alpha=1, s=150, lw=3, edgecolor=\"0.8\", marker=\"D\")\n",
    "plt.xlim(-6.5,8.5) \n",
    "plt.ylim(-6,7.2)\n",
    "\n",
    "\n",
    "plt.subplot(132)\n",
    "ix2 = 12258 \n",
    "print(ix2)\n",
    "ix = ix2\n",
    "\n",
    "neigh_bool = (vlm.embedding_knn[ix,:].A[0] > 0)\n",
    "colorandum = vlm.transition_prob[ix,:][neigh_bool]\n",
    "#print(np.percentile(colorandum, 10))\n",
    "#print(np.percentile(colorandum, 90))\n",
    "colorandum -= 1e-6\n",
    "colorandum = colorandum / 7e-4\n",
    "colorandum = np.clip(colorandum, 0, 1)\n",
    "\n",
    "ax = plt.scatter(vlm.embedding[neigh_bool,:][:, 0][np.argsort(colorandum)],\n",
    "                 vlm.embedding[neigh_bool,:][:, 1][np.argsort(colorandum)],\n",
    "                 c=colorandum[np.argsort(colorandum)], \n",
    "                 cmap=plt.cm.viridis, alpha=0.4, lw=0.7, s=50, edgecolor=\"0.5\", rasterized=True)\n",
    "\n",
    "plt.scatter(vlm.embedding[ix, 0], vlm.embedding[ix, 1],\n",
    "            c=\"r\", alpha=1, s=150, lw=3, edgecolor=\"0.8\", marker=\"D\")\n",
    "plt.xlim(-6.5,8.5) \n",
    "plt.ylim(-6,7.2)\n",
    "\n",
    "plt.subplot(133)\n",
    "plt.colorbar(ax)\n",
    "plt.axis(\"off\")\n",
    "plt.savefig(\"../figures/Fig3_neuro_tp.pdf\")"
   ]
  },
  {
   "cell_type": "code",
   "execution_count": null,
   "metadata": {},
   "outputs": [],
   "source": [
    "plt.figure(None,(9,3), dpi=120)\n",
    "plt.subplot(131)\n",
    "ix1 = 15608 # 4563\n",
    "\n",
    "\n",
    "ix = ix1\n",
    "neigh_bool = (vlm.embedding_knn[ix,:].A[0] > 0)\n",
    "colorandum = vlm.transition_prob[ix,:][neigh_bool]\n",
    "print(np.percentile(colorandum, 10))\n",
    "print(np.percentile(colorandum, 90))\n",
    "colorandum -= 2e-4 \n",
    "colorandum = colorandum / 7e-4\n",
    "colorandum = np.clip(colorandum, 0, 1)\n",
    "plt.scatter(vlm.embedding[neigh_bool,:][:, 0][np.argsort(colorandum)],\n",
    "            vlm.embedding[neigh_bool,:][:, 1][np.argsort(colorandum)],\n",
    "            c=colorandum[np.argsort(colorandum)], \n",
    "            cmap=plt.cm.viridis, alpha=0.5, lw=0.7, s=50, edgecolor=\"0.5\", rasterized=True)\n",
    "plt.scatter(vlm.embedding[ix, 0], vlm.embedding[ix, 1],\n",
    "            c=\"r\", alpha=1, s=150, lw=3, edgecolor=\"0.8\", marker=\"D\")\n",
    "plt.xlim(-10,-1)\n",
    "plt.ylim(-20.5,-14)\n",
    "\n",
    "plt.subplot(132)\n",
    "ix2 = 10977\n",
    "ix = ix2\n",
    "\n",
    "neigh_bool = (vlm.embedding_knn[ix,:].A[0] > 0)\n",
    "colorandum = vlm.transition_prob[ix,:][neigh_bool]\n",
    "print(np.percentile(colorandum, 10))\n",
    "print(np.percentile(colorandum, 90))\n",
    "colorandum -= 2e-4\n",
    "colorandum = colorandum / 7e-4\n",
    "colorandum = np.clip(colorandum, 0, 1)\n",
    "ax = plt.scatter(vlm.embedding[neigh_bool,:][:, 0][np.argsort(colorandum)],\n",
    "                 vlm.embedding[neigh_bool,:][:, 1][np.argsort(colorandum)],\n",
    "                 c=colorandum[np.argsort(colorandum)], \n",
    "                 cmap=plt.cm.viridis, alpha=0.5, lw=0.7, s=50, edgecolor=\"0.5\", rasterized=True)\n",
    "#plt.colorbar()\n",
    "plt.scatter(vlm.embedding[ix, 0], vlm.embedding[ix, 1],\n",
    "            c=\"r\", alpha=1, s=150, lw=3, edgecolor=\"0.8\", marker=\"D\")\n",
    "plt.xlim(-10,-1)\n",
    "plt.ylim(-20.5,-14)\n",
    "plt.subplot(133)\n",
    "plt.colorbar(ax)\n",
    "plt.axis(\"off\")\n",
    "plt.savefig(\"../figures/Fig3_oligos_tp.pdf\")"
   ]
  },
  {
   "cell_type": "markdown",
   "metadata": {},
   "source": [
    "## Markov chain"
   ]
  },
  {
   "cell_type": "code",
   "execution_count": null,
   "metadata": {},
   "outputs": [],
   "source": [
    "# Sample uniformly the points to avoid density driven effects - Should reimplement as a method\n",
    "steps = 100, 100\n",
    "grs = []\n",
    "for dim_i in range(vlm.embedding.shape[1]):\n",
    "    m, M = np.min(vlm.embedding[:, dim_i]), np.max(vlm.embedding[:, dim_i])\n",
    "    m = m - 0.025 * np.abs(M - m)\n",
    "    M = M + 0.025 * np.abs(M - m)\n",
    "    gr = np.linspace(m, M, steps[dim_i])\n",
    "    grs.append(gr)\n",
    "\n",
    "meshes_tuple = np.meshgrid(*grs)\n",
    "gridpoints_coordinates = np.vstack([i.flat for i in meshes_tuple]).T\n",
    "\n",
    "from sklearn.neighbors import NearestNeighbors\n",
    "nn = NearestNeighbors()\n",
    "nn.fit(vlm.embedding)\n",
    "dist, ixs = nn.kneighbors(gridpoints_coordinates, 1)\n",
    "\n",
    "diag_step_dist = np.sqrt((meshes_tuple[0][0,0] - meshes_tuple[0][0,1])**2 + (meshes_tuple[1][0,0] - meshes_tuple[1][1,0])**2)\n",
    "min_dist = diag_step_dist / 2\n",
    "ixs = ixs[dist < min_dist]\n",
    "gridpoints_coordinates = gridpoints_coordinates[dist.flat[:]<min_dist,:]\n",
    "dist = dist[dist < min_dist]\n",
    "\n",
    "ixs = np.unique(ixs)\n",
    "\n",
    "plt.figure(None,(8,8))\n",
    "vcy.scatter_viz(vlm.embedding[ixs, 0], vlm.embedding[ixs, 1],\n",
    "                c=vlm.colorandum[ixs], alpha=1, s=30, lw=0.4,\n",
    "                edgecolor=\"0.4\")"
   ]
  },
  {
   "cell_type": "code",
   "execution_count": null,
   "metadata": {},
   "outputs": [],
   "source": [
    "vlm.prepare_markov(sigma_D=diag_step_dist, sigma_W=diag_step_dist/2., direction='forward', cells_ixs=ixs)"
   ]
  },
  {
   "cell_type": "code",
   "execution_count": null,
   "metadata": {},
   "outputs": [],
   "source": [
    "vlm.run_markov(starting_p=np.ones(len(ixs)), n_steps=2500)"
   ]
  },
  {
   "cell_type": "code",
   "execution_count": null,
   "metadata": {},
   "outputs": [],
   "source": [
    "diffused_n = vlm.diffused - np.percentile(vlm.diffused, 3)\n",
    "diffused_n /= np.percentile(diffused_n, 97)\n",
    "diffused_n = np.clip(diffused_n, 0, 1)\n",
    "\n",
    "plt.figure(None,(7,7))\n",
    "vcy.scatter_viz(vlm.embedding[ixs, 0], vlm.embedding[ixs, 1],\n",
    "                c=diffused_n, alpha=0.5, s=50, lw=0.,\n",
    "                edgecolor=\"\", cmap=\"viridis_r\", rasterized=True)\n",
    "plt.axis(\"off\")\n",
    "plt.savefig(\"../figures/endpoint_distr_.pdf\")"
   ]
  },
  {
   "cell_type": "code",
   "execution_count": null,
   "metadata": {},
   "outputs": [],
   "source": [
    "vlm.prepare_markov(sigma_D=diag_step_dist, sigma_W=diag_step_dist/2., direction='backwards', cells_ixs=ixs)\n",
    "vlm.run_markov(starting_p=np.ones(len(ixs)), n_steps=2500)"
   ]
  },
  {
   "cell_type": "code",
   "execution_count": null,
   "metadata": {},
   "outputs": [],
   "source": [
    "diffused_n = vlm.diffused - np.percentile(vlm.diffused, 3)\n",
    "diffused_n /= np.percentile(diffused_n, 97)\n",
    "diffused_n = np.clip(diffused_n, 0, 1)\n",
    "\n",
    "plt.figure(None,(7,7))\n",
    "vcy.scatter_viz(vlm.embedding[ixs, 0], vlm.embedding[ixs, 1],\n",
    "                c=diffused_n, alpha=0.5, s=50, lw=0.,\n",
    "                edgecolor=\"\", cmap=\"viridis_r\", rasterized=True)\n",
    "plt.axis(\"off\")\n",
    "plt.savefig(\"../figures/startpoint_distr_.pdf\")"
   ]
  },
  {
   "cell_type": "code",
   "execution_count": null,
   "metadata": {},
   "outputs": [],
   "source": []
  }
 ],
 "metadata": {
  "kernelspec": {
   "display_name": "Python 3",
   "language": "python",
   "name": "python3"
  },
  "language_info": {
   "codemirror_mode": {
    "name": "ipython",
    "version": 3
   },
   "file_extension": ".py",
   "mimetype": "text/x-python",
   "name": "python",
   "nbconvert_exporter": "python",
   "pygments_lexer": "ipython3",
   "version": "3.7.3"
  }
 },
 "nbformat": 4,
 "nbformat_minor": 4
}
